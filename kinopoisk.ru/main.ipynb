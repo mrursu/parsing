{
 "cells": [
  {
   "cell_type": "code",
   "execution_count": 163,
   "metadata": {},
   "outputs": [
    {
     "data": {
      "text/plain": [
       "['one', 'two', 'list', '', 'dict', '100', '50']"
      ]
     },
     "execution_count": 163,
     "metadata": {},
     "output_type": "execute_result"
    }
   ],
   "source": [
    "list_of_strings = ['one', 'two', 'list', '', 'dict', '100', 1,2.3, '50']\n",
    "\n",
    "list(filter(lambda x: isinstance(x,str), list_of_strings))\n",
    "\n",
    "\n"
   ]
  },
  {
   "cell_type": "code",
   "execution_count": 171,
   "metadata": {},
   "outputs": [
    {
     "data": {
      "text/plain": [
       "[['Научная литература', 'Проза']]"
      ]
     },
     "execution_count": 171,
     "metadata": {},
     "output_type": "execute_result"
    }
   ],
   "source": [
    "a = [\n",
    "    {\n",
    "        \"title_book\": \"Великий Гэтсби\",\n",
    "        \"contributor\": \"Фрэнсис Скотт Фицджеральд\",\n",
    "        \"genres\": [\n",
    "            \"Научная литература\",\n",
    "            \"Проза\"\n",
    "        ],\n",
    "        \"rating_star\": \"732\",\n",
    "        \"reading\": \"67\",\n",
    "        \"planned\": \"779\",\n",
    "        \"read\": \"2068\",\n",
    "        \"not_finish_read\": \"37\",\n",
    "        \"discuss\": \"28\",\n",
    "        \"cited\": \"62\",\n",
    "        \"book_description\": \"\\\"Великий Гэтсби\\\" - вершина не только в творчестве Ф. С. Фицджеральда, но и одно из высших достижений в мировой прозе XX века. Хотя действие романа происходит...Ещё\"\n",
    "    }]\n",
    "\n",
    "[a[0]['genres']]"
   ]
  }
 ],
 "metadata": {
  "kernelspec": {
   "display_name": "Python 3",
   "language": "python",
   "name": "python3"
  },
  "language_info": {
   "codemirror_mode": {
    "name": "ipython",
    "version": 3
   },
   "file_extension": ".py",
   "mimetype": "text/x-python",
   "name": "python",
   "nbconvert_exporter": "python",
   "pygments_lexer": "ipython3",
   "version": "3.9.6"
  }
 },
 "nbformat": 4,
 "nbformat_minor": 2
}
